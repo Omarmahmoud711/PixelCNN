{
 "cells": [
  {
   "cell_type": "markdown",
   "metadata": {},
   "source": [
    "# Autoregressive Models: PixelCNN\n",
    "---\n",
    "## What is PixelCNN?  \n",
    "PixelCNN is an autoregressive deep learning model designed for image generation. Unlike GANs or VAEs, which generate images holistically (all at once), PixelCNN generates images pixel by pixel in a raster-scan order (left to right, top to bottom).\n",
    "\n",
    "\n",
    "\n",
    "*   This means each pixel is modeled conditionally based on previously generated pixels, allowing the network to learn a distribution over images.  \n",
    "\n",
    "\n",
    "* Mathematically, PixelCNN models the joint distribution of an image $(\\mathbf{x})$ as a product of conditional distributions:\n",
    "$$\n",
    "p(\\mathbf{x}) = \\prod_{i=1}^{N} p(x_i \\mid x_1, x_2, \\dots, x_{i-1})\n",
    "$$\n",
    "\n",
    "* where $( x_i )$ represents the value of the current pixel being generated  in the order (e.g., raster scan).\n",
    "\n",
    "\n",
    "## How Does it Work?  \n",
    "PixelCNN is based on **masked convolutions**, which ensure that when predicting a pixel, the model only has access to previously generated pixels i.e, it can't see the future or it's own value, each pixel should only be aware only of the previous pixels (Auto-regressivenes property), so in order to do that we somehow mask the future pixels regarding the current one, we will discuss it in further details.\n",
    "\n",
    "\n",
    "Let's begin!"
   ]
  },
  {
   "cell_type": "code",
   "execution_count": 5,
   "metadata": {},
   "outputs": [],
   "source": [
    "import torch\n",
    "import torch.nn as nn\n",
    "import torch.optim as optim\n",
    "import torchvision.transforms as transforms\n",
    "import torchvision.datasets as datasets\n",
    "import torch.nn.functional as F\n",
    "from torch.utils.data import DataLoader, random_split\n",
    "from tqdm import tqdm\n",
    "import matplotlib.pyplot as plt\n",
    "import numpy as np\n"
   ]
  },
  {
   "cell_type": "markdown",
   "metadata": {},
   "source": [
    "## Masked Convolutions\n",
    "\n",
    "* At the begining of generative models, RNNs were used to generate pixels, (i.e, PixelRNN).\n",
    "\n",
    "* Just as language models LSTMs were used in images too in order to generate the next pixel given all the previous ones.\n",
    "\n",
    "* This was Super inefficient since images are Grids by defenition, thus can be parallelized instead of being sequentially processed as word tokens.\n",
    "\n",
    "* So the goal now is to find a way to make this parallelizable and also keeping the auto-regressiveness property Thus **Masked Convolutions** were introduced.\n",
    "\n",
    "### Example:\n",
    "assume a 3*3 kernel.\n",
    "\n",
    "* In regular convolutions, the kernel sees all 9 pixels\n",
    "\n",
    "* In masked convolution, the kernel should only see exactly 4 pixels (assuming the current pixel is the center pixel)\n",
    "\n",
    "* There are also special cases regarding the current position of a pixel\n",
    "\n",
    "\n",
    "\n",
    "\n",
    "\n"
   ]
  },
  {
   "cell_type": "code",
   "execution_count": 6,
   "metadata": {},
   "outputs": [],
   "source": [
    "class MaskedConv2d(nn.Conv2d):\n",
    "    def __init__(self, *args, mask_type, **kwargs):\n",
    "        super().__init__(*args, **kwargs)\n",
    "        assert mask_type in ['A', 'B'], \"Mask type must be 'A' or 'B'\"\n",
    "        self.register_buffer('mask', self.weight.data.clone())\n",
    "        _, _, H, W = self.weight.size()\n",
    "        self.mask.fill_(1)\n",
    "        self.mask[:, :, H // 2, W // 2 + (mask_type == 'B'):] = 0\n",
    "        self.mask[:, :, H // 2 + 1:] = 0\n",
    "\n",
    "    def forward(self, x):\n",
    "        self.weight.data *= self.mask  # Apply mask\n",
    "        return super().forward(x)\n",
    "\n",
    "class PixelCNN(nn.Module):\n",
    "    def __init__(self, input_channels=1, hidden_channels=64, kernel_size=7, num_layers=6):\n",
    "        super().__init__()\n",
    "        self.layers = nn.ModuleList()\n",
    "        \n",
    "        # First layer: Mask type A\n",
    "        self.layers.append(MaskedConv2d(input_channels, hidden_channels, kernel_size, padding=kernel_size//2, mask_type='A'))\n",
    "        self.layers.append(nn.ReLU())\n",
    "\n",
    "        # Hidden layers: Mask type B\n",
    "        for _ in range(num_layers - 2):\n",
    "            self.layers.append(MaskedConv2d(hidden_channels, hidden_channels, kernel_size, padding=kernel_size//2, mask_type='B'))\n",
    "            self.layers.append(nn.ReLU())\n",
    "\n",
    "        # Final layer: 1x1 convolution for pixel probability prediction\n",
    "        self.layers.append(nn.Conv2d(hidden_channels, input_channels, 1))\n",
    "\n",
    "    def forward(self, x):\n",
    "        for layer in self.layers:\n",
    "            x = layer(x)\n",
    "        return torch.sigmoid(x)  # Pixel values between 0 and 1\n"
   ]
  },
  {
   "cell_type": "markdown",
   "metadata": {},
   "source": [
    "## Data Preprocessing and Dataloaders\n",
    "\n",
    "\n",
    "### 1. **Change the images to Tensors.**\n",
    "\n",
    "\n",
    "### 2. **Load the MNIST dataset.**\n",
    "* The dataset contains 60,000 images.\n",
    "* We split them into 90% for training and 10% for testing.\n",
    "\n",
    "\n",
    "\n",
    "### 4. **Prepare data loaders.**\n",
    "* with Batch size of **64**\n",
    "\n",
    "\n"
   ]
  },
  {
   "cell_type": "code",
   "execution_count": 7,
   "metadata": {},
   "outputs": [
    {
     "name": "stdout",
     "output_type": "stream",
     "text": [
      "Using device: cuda\n"
     ]
    },
    {
     "data": {
      "image/png": "[encoded data removed]",
      "text/plain": [
       "<Figure size 640x480 with 1 Axes>"
      ]
     },
     "metadata": {},
     "output_type": "display_data"
    }
   ],
   "source": [
    "# Use GPU if available\n",
    "device = torch.device(\"cuda\" if torch.cuda.is_available() else \"cpu\")\n",
    "print(\"Using device:\", device)\n",
    "\n",
    "# Load dataset\n",
    "transform = transforms.Compose([transforms.ToTensor()])\n",
    "dataset = datasets.MNIST(root=\"./data\", train=True, transform=transform, download=True)\n",
    "\n",
    "# Train-test split (90% train, 10% test)\n",
    "train_size = int(0.9 * len(dataset))\n",
    "test_size = len(dataset) - train_size\n",
    "train_dataset, test_dataset = random_split(dataset, [train_size, test_size])\n",
    "\n",
    "train_loader = DataLoader(train_dataset, batch_size=64, shuffle=True, num_workers=0)\n",
    "test_loader = DataLoader(test_dataset, batch_size=64, shuffle=False, num_workers=0)\n",
    "\n",
    "# Show a sample image\n",
    "plt.imshow(train_dataset[0][0].squeeze(), cmap=\"gray\")\n",
    "plt.title(\"Sample MNIST Image\")\n",
    "plt.show()\n"
   ]
  },
  {
   "cell_type": "code",
   "execution_count": 8,
   "metadata": {},
   "outputs": [
    {
     "data": {
      "image/png": "[encoded data removed]",
      "text/plain": [
       "<Figure size 900x300 with 3 Axes>"
      ]
     },
     "metadata": {},
     "output_type": "display_data"
    }
   ],
   "source": [
    "def split_top_bottom(images):\n",
    "    \"\"\"\n",
    "    Splits an image into top-half (input) and bottom-half (target).\n",
    "    \"\"\"\n",
    "    top_half = images.clone()\n",
    "    bottom_half = images.clone()\n",
    "    \n",
    "    top_half[:, :, 14:, :] = 0  # Keep only the top half\n",
    "    bottom_half[:, :, :14, :] = 0  # Keep only the bottom half\n",
    "    \n",
    "    return top_half, bottom_half\n",
    "\n",
    "# Test splitting function\n",
    "sample_image, _ = train_dataset[0]\n",
    "top_half, bottom_half = split_top_bottom(sample_image.unsqueeze(0))  # Add batch dimension\n",
    "\n",
    "# Show top-half and bottom-half\n",
    "fig, ax = plt.subplots(1, 3, figsize=(9, 3))\n",
    "ax[0].imshow(sample_image.squeeze(), cmap=\"gray\")\n",
    "ax[0].set_title(\"Original\")\n",
    "ax[0].axis(\"off\")\n",
    "\n",
    "ax[1].imshow(top_half.squeeze(), cmap=\"gray\")\n",
    "ax[1].set_title(\"Top Half (Given)\")\n",
    "ax[1].axis(\"off\")\n",
    "\n",
    "ax[2].imshow(bottom_half.squeeze(), cmap=\"gray\")\n",
    "ax[2].set_title(\"Bottom Half (Target)\")\n",
    "ax[2].axis(\"off\")\n",
    "\n",
    "plt.show()\n"
   ]
  },
  {
   "cell_type": "code",
   "execution_count": 9,
   "metadata": {},
   "outputs": [
    {
     "name": "stderr",
     "output_type": "stream",
     "text": [
      "                                                                             "
     ]
    },
    {
     "name": "stdout",
     "output_type": "stream",
     "text": [
      "Training complete!\n"
     ]
    },
    {
     "name": "stderr",
     "output_type": "stream",
     "text": [
      "\r"
     ]
    }
   ],
   "source": [
    "# Initialize model, optimizer, and loss function\n",
    "model = PixelCNN().to(device)\n",
    "optimizer = optim.Adam(model.parameters(), lr=0.001)\n",
    "criterion = nn.BCELoss()\n",
    "\n",
    "# Training loop\n",
    "epochs = 200\n",
    "for epoch in range(epochs):\n",
    "    model.train()\n",
    "    loop = tqdm(train_loader, desc=f\"Epoch {epoch+1}/{epochs}\", leave=False)\n",
    "\n",
    "    for images, _ in loop:\n",
    "        images = images.to(device)\n",
    "        top_half, bottom_half = split_top_bottom(images)\n",
    "\n",
    "        # Forward pass\n",
    "        outputs = model(top_half)\n",
    "        loss = criterion(outputs, bottom_half)  # Compare output with bottom half\n",
    "\n",
    "        # Backpropagation\n",
    "        optimizer.zero_grad()\n",
    "        loss.backward()\n",
    "        optimizer.step()\n",
    "\n",
    "        loop.set_postfix(loss=loss.item())\n",
    "\n",
    "print(\"Training complete!\")\n"
   ]
  },
  {
   "cell_type": "code",
   "execution_count": 2,
   "metadata": {},
   "outputs": [
    {
     "ename": "NameError",
     "evalue": "name 'model' is not defined",
     "output_type": "error",
     "traceback": [
      "\u001b[1;31m---------------------------------------------------------------------------\u001b[0m",
      "\u001b[1;31mNameError\u001b[0m                                 Traceback (most recent call last)",
      "Cell \u001b[1;32mIn[2], line 35\u001b[0m\n\u001b[0;32m     32\u001b[0m             \u001b[38;5;28;01mbreak\u001b[39;00m  \u001b[38;5;66;03m# Only show first batch\u001b[39;00m\n\u001b[0;32m     34\u001b[0m \u001b[38;5;66;03m# Run inference on test data\u001b[39;00m\n\u001b[1;32m---> 35\u001b[0m complete_images(\u001b[43mmodel\u001b[49m, test_loader)\n",
      "\u001b[1;31mNameError\u001b[0m: name 'model' is not defined"
     ]
    }
   ],
   "source": [
    "def complete_images(model, test_loader, num_samples=5):\n",
    "    \"\"\"\n",
    "    Uses a trained model to complete the bottom half of given top-half images.\n",
    "    \"\"\"\n",
    "    model.eval()\n",
    "    with torch.no_grad():\n",
    "        for images, _ in test_loader:\n",
    "            images = images.to(device)\n",
    "            top_half, _ = split_top_bottom(images)  # Get top half as input\n",
    "\n",
    "            # Predict bottom half\n",
    "            predicted_bottom_half = model(top_half)\n",
    "            completed_images = top_half + predicted_bottom_half  # Merge both halves\n",
    "            completed_images = completed_images.cpu().numpy()\n",
    "\n",
    "            # Display results\n",
    "            fig, axes = plt.subplots(3, num_samples, figsize=(num_samples * 2, 6))\n",
    "            for i in range(num_samples):\n",
    "                axes[0, i].imshow(images[i].cpu().squeeze(), cmap=\"gray\")\n",
    "                axes[0, i].set_title(\"Original\")\n",
    "                axes[0, i].axis(\"off\")\n",
    "\n",
    "                axes[1, i].imshow(top_half[i].cpu().squeeze(), cmap=\"gray\")\n",
    "                axes[1, i].set_title(\"Given Top Half\")\n",
    "                axes[1, i].axis(\"off\")\n",
    "\n",
    "                axes[2, i].imshow(completed_images[i].squeeze(), cmap=\"gray\")\n",
    "                axes[2, i].set_title(\"Completed\")\n",
    "                axes[2, i].axis(\"off\")\n",
    "\n",
    "            plt.show()\n",
    "            break  # Only show first batch\n",
    "\n",
    "# Run inference on test data\n",
    "complete_images(model, test_loader)\n"
   ]
  },
  {
   "cell_type": "code",
   "execution_count": 4,
   "metadata": {},
   "outputs": [
    {
     "ename": "NameError",
     "evalue": "name 'model' is not defined",
     "output_type": "error",
     "traceback": [
      "\u001b[1;31m---------------------------------------------------------------------------\u001b[0m",
      "\u001b[1;31mNameError\u001b[0m                                 Traceback (most recent call last)",
      "Cell \u001b[1;32mIn[4], line 1\u001b[0m\n\u001b[1;32m----> 1\u001b[0m torch\u001b[38;5;241m.\u001b[39msave(\u001b[43mmodel\u001b[49m\u001b[38;5;241m.\u001b[39mstate_dict(), \u001b[38;5;124m\"\u001b[39m\u001b[38;5;124mpixelcnn_model.pth\u001b[39m\u001b[38;5;124m\"\u001b[39m)\n",
      "\u001b[1;31mNameError\u001b[0m: name 'model' is not defined"
     ]
    }
   ],
   "source": [
    "torch.save(model.state_dict(), \"pixelcnn_model.pth\")\n"
   ]
  }
 ],
 "metadata": {
  "kernelspec": {
   "display_name": "Python 3",
   "language": "python",
   "name": "python3"
  },
  "language_info": {
   "codemirror_mode": {
    "name": "ipython",
    "version": 3
   },
   "file_extension": ".py",
   "mimetype": "text/x-python",
   "name": "python",
   "nbconvert_exporter": "python",
   "pygments_lexer": "ipython3",
   "version": "3.11.7"
  }
 },
 "nbformat": 4,
 "nbformat_minor": 2
}
